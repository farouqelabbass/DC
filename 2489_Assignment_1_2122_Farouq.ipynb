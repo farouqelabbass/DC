{
 "cells": [
  {
   "cell_type": "markdown",
   "metadata": {},
   "source": [
    "## Assignment 1:  Python Basics, Built-in Structures, Functions, Files, Numpy and Pandas\n",
    "\n",
    "This assignment contains 5 questions with details as below. The due date is October 3 (Sunday), 2021, at 11:59 PM. Each late day will result in a 20% loss of total points. Submit a `.zip` file with this solved notebook and the file created on exercise 3."
   ]
  },
  {
   "cell_type": "markdown",
   "metadata": {},
   "source": [
    "### Question 1 (15 points) Programming\n",
    "\n",
    "The following exercise has 6 parts - the first asks you to describe a basic program and the next five ask you to make a similar program to answer slight variations on the theme..."
   ]
  },
  {
   "cell_type": "markdown",
   "metadata": {},
   "source": [
    "### a)"
   ]
  },
  {
   "cell_type": "markdown",
   "metadata": {},
   "source": [
    "What does the following program do? This question is **not** about describing the instructions in the program one by one. Instead, try to find a descriptive name as a “summary” to tell the user of the program what output it will compute based on the user’s inputs."
   ]
  },
  {
   "cell_type": "code",
   "execution_count": 199,
   "metadata": {
    "tags": []
   },
   "outputs": [
    {
     "name": "stdout",
     "output_type": "stream",
     "text": [
      "Enter another integer number (0 to finish): "
     ]
    },
    {
     "name": "stdin",
     "output_type": "stream",
     "text": [
      " 15\n"
     ]
    },
    {
     "name": "stdout",
     "output_type": "stream",
     "text": [
      "Enter another integer number (0 to finish): "
     ]
    },
    {
     "name": "stdin",
     "output_type": "stream",
     "text": [
      " 0\n"
     ]
    },
    {
     "name": "stdout",
     "output_type": "stream",
     "text": [
      "15\n"
     ]
    }
   ],
   "source": [
    "m = 0\n",
    "finished = False\n",
    "while not finished:\n",
    "    print(\"Enter another integer number (0 to finish): \", end = \"\")\n",
    "    s = input()\n",
    "    num = int(s)\n",
    "    if num != 0:\n",
    "        if num > m:\n",
    "            m = num\n",
    "    else:\n",
    "        finished = True\n",
    "print(str(m))"
   ]
  },
  {
   "cell_type": "markdown",
   "metadata": {},
   "source": [
    "***Answer...***\n",
    "_The code return the biggest integer written by the user after inputing 0 which is the condition to stop the program._"
   ]
  },
  {
   "cell_type": "markdown",
   "metadata": {},
   "source": [
    "### b)"
   ]
  },
  {
   "cell_type": "markdown",
   "metadata": {},
   "source": [
    "If you have worked out what the above program does, can you see that, for certain series\n",
    "of integers, it will not produce the correct output? In what circumstances will it not\n",
    "work correctly, and how could you change the program to make it work properly? You\n",
    "may assume that the user will enter at least one number that is not 0 before the final 0."
   ]
  },
  {
   "cell_type": "code",
   "execution_count": 200,
   "metadata": {},
   "outputs": [
    {
     "name": "stdout",
     "output_type": "stream",
     "text": [
      "Enter number: \n"
     ]
    },
    {
     "name": "stdin",
     "output_type": "stream",
     "text": [
      " -4685\n"
     ]
    },
    {
     "name": "stdout",
     "output_type": "stream",
     "text": [
      "Enter number: \n"
     ]
    },
    {
     "name": "stdin",
     "output_type": "stream",
     "text": [
      " -46515\n"
     ]
    },
    {
     "name": "stdout",
     "output_type": "stream",
     "text": [
      "Enter number: \n"
     ]
    },
    {
     "name": "stdin",
     "output_type": "stream",
     "text": [
      " -465\n"
     ]
    },
    {
     "name": "stdout",
     "output_type": "stream",
     "text": [
      "Enter number: \n"
     ]
    },
    {
     "name": "stdin",
     "output_type": "stream",
     "text": [
      " 0\n"
     ]
    },
    {
     "name": "stdout",
     "output_type": "stream",
     "text": [
      "-465\n"
     ]
    }
   ],
   "source": [
    "# Code...\n",
    "finished = False\n",
    "M=[]\n",
    "while not finished:\n",
    "    print(\"Enter number: \")\n",
    "    s = input()\n",
    "    num = int(s)\n",
    "    if num!=0 : \n",
    "        M.append(num)     \n",
    "    else:\n",
    "        finished = True\n",
    "print(max(M))"
   ]
  },
  {
   "cell_type": "markdown",
   "metadata": {},
   "source": [
    "### c)"
   ]
  },
  {
   "cell_type": "markdown",
   "metadata": {},
   "source": [
    "Write a program that takes a series of numbers (the user should type 0 to exit) and counts the number of times that the number 100 appears in the list. For example, for the series 2, 6, 100, 50, 101, 100, 88, 0, it would output 2."
   ]
  },
  {
   "cell_type": "code",
   "execution_count": 201,
   "metadata": {},
   "outputs": [
    {
     "name": "stdout",
     "output_type": "stream",
     "text": [
      "Enter number :  "
     ]
    },
    {
     "name": "stdin",
     "output_type": "stream",
     "text": [
      " 6654\n"
     ]
    },
    {
     "name": "stdout",
     "output_type": "stream",
     "text": [
      "Enter number :  "
     ]
    },
    {
     "name": "stdin",
     "output_type": "stream",
     "text": [
      " 100\n"
     ]
    },
    {
     "name": "stdout",
     "output_type": "stream",
     "text": [
      "Enter number :  "
     ]
    },
    {
     "name": "stdin",
     "output_type": "stream",
     "text": [
      " 464\n"
     ]
    },
    {
     "name": "stdout",
     "output_type": "stream",
     "text": [
      "Enter number :  "
     ]
    },
    {
     "name": "stdin",
     "output_type": "stream",
     "text": [
      " 543\n"
     ]
    },
    {
     "name": "stdout",
     "output_type": "stream",
     "text": [
      "Enter number :  "
     ]
    },
    {
     "name": "stdin",
     "output_type": "stream",
     "text": [
      " 100\n"
     ]
    },
    {
     "name": "stdout",
     "output_type": "stream",
     "text": [
      "Enter number :  "
     ]
    },
    {
     "name": "stdin",
     "output_type": "stream",
     "text": [
      " 0\n"
     ]
    },
    {
     "name": "stdout",
     "output_type": "stream",
     "text": [
      "Number of times 100 was input is : 2\n"
     ]
    }
   ],
   "source": [
    "###### Code...\n",
    "finished = False\n",
    "c=0\n",
    "while (not finished):\n",
    "    print(\"Enter number : \", end=\" \")\n",
    "    m = input()\n",
    "    s = int(m)\n",
    "    if s == 0:\n",
    "        finished = True\n",
    "    elif s == 100:\n",
    "        c = c+1\n",
    "print(\"Number of times 100 was input is : \" + str(c)) "
   ]
  },
  {
   "cell_type": "markdown",
   "metadata": {},
   "source": [
    "### d)"
   ]
  },
  {
   "cell_type": "markdown",
   "metadata": {},
   "source": [
    "Write a program that takes a series of lines of text (the user should enter an empty string to exit) and, at the end, outputs the longest line. You may assume there is at least one line in the input."
   ]
  },
  {
   "cell_type": "code",
   "execution_count": 30,
   "metadata": {},
   "outputs": [
    {
     "name": "stdout",
     "output_type": "stream",
     "text": [
      "Strings :  "
     ]
    },
    {
     "name": "stdin",
     "output_type": "stream",
     "text": [
      " uighlh\n"
     ]
    },
    {
     "name": "stdout",
     "output_type": "stream",
     "text": [
      "Strings :  "
     ]
    },
    {
     "name": "stdin",
     "output_type": "stream",
     "text": [
      " uhilgbhjguyf\n"
     ]
    },
    {
     "name": "stdout",
     "output_type": "stream",
     "text": [
      "Strings :  "
     ]
    },
    {
     "name": "stdin",
     "output_type": "stream",
     "text": [
      " xdreajkftghbkjn\n"
     ]
    },
    {
     "name": "stdout",
     "output_type": "stream",
     "text": [
      "Strings :  "
     ]
    },
    {
     "name": "stdin",
     "output_type": "stream",
     "text": [
      " 0\n"
     ]
    },
    {
     "name": "stdout",
     "output_type": "stream",
     "text": [
      "Strings :  "
     ]
    },
    {
     "name": "stdin",
     "output_type": "stream",
     "text": [
      " \n"
     ]
    },
    {
     "name": "stdout",
     "output_type": "stream",
     "text": [
      "Longest is xdreajkftghbkjn\n"
     ]
    }
   ],
   "source": [
    "# Code...\n",
    "finished = False\n",
    "maxi=\"\"\n",
    "while (not finished):\n",
    "    print(\"Strings : \", end=\" \")\n",
    "    m = input()\n",
    "    if m==\"\":\n",
    "        finished=True\n",
    "    elif len(m) > len(maxi):\n",
    "        maxi=m\n",
    "print(\"Longest is\", maxi) "
   ]
  },
  {
   "cell_type": "markdown",
   "metadata": {},
   "source": [
    "### e)"
   ]
  },
  {
   "cell_type": "markdown",
   "metadata": {},
   "source": [
    "Write a program that takes a series of numbers (the user should type 0 to exit). If the current number is\n",
    "the same as the previous number, it says “Same”; if the current number is greater than\n",
    "the previous one, it says “Up”, and if it’s less than the previous one, it says “Down”. It\n",
    "makes no response at all to the very first number. For example, its output for the list 9,\n",
    "9, 8, 5, 10, 10, 0, would be Same, Down, Down, Up, Same (comparing, in turn, 9 and 9,\n",
    "9 and 8, 8 and 5, 5 and 10, 10 and 10). You may assume there are at least two numbers\n",
    "in the input."
   ]
  },
  {
   "cell_type": "code",
   "execution_count": 202,
   "metadata": {},
   "outputs": [
    {
     "name": "stdout",
     "output_type": "stream",
     "text": [
      "Enter: "
     ]
    },
    {
     "name": "stdin",
     "output_type": "stream",
     "text": [
      " 54\n"
     ]
    },
    {
     "name": "stdout",
     "output_type": "stream",
     "text": [
      "Enter: "
     ]
    },
    {
     "name": "stdin",
     "output_type": "stream",
     "text": [
      " 35456\n"
     ]
    },
    {
     "name": "stdout",
     "output_type": "stream",
     "text": [
      "Up\n",
      "Enter: "
     ]
    },
    {
     "name": "stdin",
     "output_type": "stream",
     "text": [
      " 8464\n"
     ]
    },
    {
     "name": "stdout",
     "output_type": "stream",
     "text": [
      "Down\n",
      "Enter: "
     ]
    },
    {
     "name": "stdin",
     "output_type": "stream",
     "text": [
      " 12315\n"
     ]
    },
    {
     "name": "stdout",
     "output_type": "stream",
     "text": [
      "Up\n",
      "Enter: "
     ]
    },
    {
     "name": "stdin",
     "output_type": "stream",
     "text": [
      " 5646\n"
     ]
    },
    {
     "name": "stdout",
     "output_type": "stream",
     "text": [
      "Down\n",
      "Enter: "
     ]
    },
    {
     "name": "stdin",
     "output_type": "stream",
     "text": [
      " 8464\n"
     ]
    },
    {
     "name": "stdout",
     "output_type": "stream",
     "text": [
      "Up\n",
      "Enter: "
     ]
    },
    {
     "name": "stdin",
     "output_type": "stream",
     "text": [
      " 0\n"
     ]
    },
    {
     "name": "stdout",
     "output_type": "stream",
     "text": [
      "0\n"
     ]
    }
   ],
   "source": [
    "# Code...\n",
    "m = 0\n",
    "finished = False\n",
    "print(\"Enter: \", end = \"\")\n",
    "x=input()\n",
    "prev=int(x)\n",
    "while not finished:\n",
    "    print(\"Enter: \", end = \"\")\n",
    "    s = input()\n",
    "    curr = int(s)\n",
    "    if curr != 0:\n",
    "        if curr > prev:\n",
    "            print(\"Up\")\n",
    "        elif curr < prev:\n",
    "            print(\"Down\")\n",
    "        elif curr == prev:\n",
    "            print(\"Same\")\n",
    "        prev = curr\n",
    "    else:\n",
    "        finished = True\n",
    "print(str(m))"
   ]
  },
  {
   "cell_type": "markdown",
   "metadata": {},
   "source": [
    "### f)"
   ]
  },
  {
   "cell_type": "markdown",
   "metadata": {},
   "source": [
    "Write a solution for exercise e) that prints all the “Down”, “Same”, and “Up” messages\n",
    "together at the end."
   ]
  },
  {
   "cell_type": "code",
   "execution_count": 204,
   "metadata": {},
   "outputs": [
    {
     "name": "stdout",
     "output_type": "stream",
     "text": [
      "Enter: "
     ]
    },
    {
     "name": "stdin",
     "output_type": "stream",
     "text": [
      " 454\n"
     ]
    },
    {
     "name": "stdout",
     "output_type": "stream",
     "text": [
      "Enter: "
     ]
    },
    {
     "name": "stdin",
     "output_type": "stream",
     "text": [
      " 6548\n"
     ]
    },
    {
     "name": "stdout",
     "output_type": "stream",
     "text": [
      "Up\n",
      "Enter: "
     ]
    },
    {
     "name": "stdin",
     "output_type": "stream",
     "text": [
      " 5165\n"
     ]
    },
    {
     "name": "stdout",
     "output_type": "stream",
     "text": [
      "Down\n",
      "Enter: "
     ]
    },
    {
     "name": "stdin",
     "output_type": "stream",
     "text": [
      " 548\n"
     ]
    },
    {
     "name": "stdout",
     "output_type": "stream",
     "text": [
      "Down\n",
      "Enter: "
     ]
    },
    {
     "name": "stdin",
     "output_type": "stream",
     "text": [
      " 52165487\n"
     ]
    },
    {
     "name": "stdout",
     "output_type": "stream",
     "text": [
      "Up\n",
      "Enter: "
     ]
    },
    {
     "name": "stdin",
     "output_type": "stream",
     "text": [
      " 0\n"
     ]
    },
    {
     "name": "stdout",
     "output_type": "stream",
     "text": [
      "Up Down Down Up\n"
     ]
    }
   ],
   "source": [
    "###### Code...\n",
    "m = 0\n",
    "L = []\n",
    "finished = False\n",
    "print(\"Enter: \", end = \"\")\n",
    "x=input()\n",
    "previous=int(x)\n",
    "while not finished:\n",
    "    print(\"Enter: \", end = \"\")\n",
    "    s = input()\n",
    "    current = int(s)\n",
    "    if current != 0:\n",
    "        if current > previous:\n",
    "            print(\"Up\")\n",
    "            L.append(\"Up\")\n",
    "        elif current < previous:\n",
    "            print(\"Down\")\n",
    "            L.append(\"Down\")\n",
    "        elif current == previous:\n",
    "            print(\"Same\")\n",
    "            L.append(\"Same\")\n",
    "        previous = current\n",
    "    else:\n",
    "        finished = True\n",
    "print(\" \".join(L))"
   ]
  },
  {
   "cell_type": "markdown",
   "metadata": {},
   "source": [
    "### Question 2 (25 points) Functional Description\n",
    "\n",
    "Lisbon Sports Club is considered by many one of the most beautiful golf course holes in Portugal. Recently, the Club manager decided that the VIP list needed to be upgraded. They ask you to develop a VIP List application.\n",
    "\n",
    "The application consists of a simple menu with four options:\n",
    "\n",
    "1. List all VIP customers\n",
    "\n",
    "2. Add VIP customer\n",
    "\n",
    "3. Remove VIP Customer\n",
    "\n",
    "4. Exit the program\n",
    "\n",
    "\n",
    "The VIP customers data structure must have the following information:\n",
    "\n",
    "1. First name\n",
    "\n",
    "2. Last name\n",
    "\n",
    "3. Email (the email must be unique)\n",
    "\n",
    "\n",
    "All VIP customers information is stored in an ordered list, which is used by the program during execution.\n",
    "\n",
    "\n",
    "Ex:\n",
    "\n",
    "vip_list = [\n",
    "\n",
    "{\"f_name\":\"George\", \"l_name\":\"Smith\", \"email\":\"email_01\"},\n",
    "\n",
    "{\"f_name\":\"Xavier\", \"l_name\":\"Zimmer\", \"email\":\"email_02\"}\n",
    "\n",
    "]\n",
    "\n",
    "\n",
    "\n",
    "The goal is to have this program as modular as possible, so we will try our best to put each functionality inside a corresponding function.\n",
    "\n",
    "All implementation details are described in the Development Requirements chapter and you can also see all possible outputs in the Program Outputs chapter\n",
    "\n",
    "\n",
    "\n",
    "### Implementation Requirements\n",
    "Create the following functions: "
   ]
  },
  {
   "cell_type": "markdown",
   "metadata": {},
   "source": [
    "### VIPList function\n",
    "\n",
    "The VIPList function is your main function.\n",
    "This function calls all the functions below and is responsible for the menu loop logic and user options logic. This function should also contain a variable of type list, called vip_list where you will store all you VIP Customers."
   ]
  },
  {
   "cell_type": "code",
   "execution_count": null,
   "metadata": {},
   "outputs": [],
   "source": [
    "def VIPList():\n",
    "    vip_list=[]\n",
    "    while True:\n",
    "        menu()\n",
    "        user_input = input(\"Please insert option number:\")\n",
    "        \n",
    "        if user_input == \"1\":\n",
    "            listVIP(vip_list)\n",
    "        \n",
    "        if user_input == \"2\":\n",
    "            vip_list = createVIPCustomer(vip_list)\n",
    "        \n",
    "        if user_input == \"3\":\n",
    "            vip_list = removeVIP(vip_list)\n",
    "        \n",
    "        if user_input == \"4\":\n",
    "            quit()\n",
    "            break"
   ]
  },
  {
   "cell_type": "markdown",
   "metadata": {},
   "source": [
    "### menu function\n",
    "\n",
    "The menu function prints all the menu choices and gets the user input for the desired function."
   ]
  },
  {
   "cell_type": "code",
   "execution_count": 137,
   "metadata": {},
   "outputs": [],
   "source": [
    "def menu():\n",
    "    print(\"\\nMenù:\")\n",
    "    print(\"1. List all VIP customers\")\n",
    "    print(\"2. Add VIP customer\")\n",
    "    print(\"3. Remove VIP customer\")\n",
    "    print(\"4. Exit the program \\n\")"
   ]
  },
  {
   "cell_type": "markdown",
   "metadata": {},
   "source": [
    "### createVIPCustomer function \n",
    "\n",
    "The createVIPCustomer function asks the user for 3 inputs: first name, last name and e-mail.\n",
    "If a user with the same email already exists, you should warn the users that a user with this email already exists and redirect the users to the menu.\n",
    "If the new VIP Customer email does not exist, you should create this new VIP Customer.\n"
   ]
  },
  {
   "cell_type": "code",
   "execution_count": 133,
   "metadata": {},
   "outputs": [],
   "source": [
    "def createVIPCustomer(vip_list):\n",
    "    new_fname = input(\"Please insert VIP Customer first name: \")\n",
    "    new_lname = input(\"Please insert VIP Customer last name: \")\n",
    "    new_email = input(\"Please insert VIP Customer email: \")\n",
    "    \n",
    "    if not userExists(vip_list,new_email):\n",
    "    \n",
    "        vip_list.append({\"fname\": new_fname, \"lname\": new_lname, \"email\": new_email})\n",
    "    print(vip_list)\n",
    "    return vip_list"
   ]
  },
  {
   "cell_type": "markdown",
   "metadata": {},
   "source": [
    "### listVIP function\n",
    "\n",
    "The listVIP function lists all the customers in the VIP List.\n",
    "If the list is empty, a message saying “The VIP list is empty” is displayed and the user is redirected to the menu. If the list has VIP Customers, you should display them like this:\n",
    "“VIP LIST COSTUMERS”\n",
    "“list position -> new line -> first_name last_name-> new line -> email.”"
   ]
  },
  {
   "cell_type": "code",
   "execution_count": 134,
   "metadata": {},
   "outputs": [],
   "source": [
    "def listVIP(vip_list):\n",
    "    if len(vip_list) == 0:\n",
    "        print(\"Sorry. The list is empty\")\n",
    "    \n",
    "    else:\n",
    "        print(vip_list)\n",
    "        "
   ]
  },
  {
   "cell_type": "markdown",
   "metadata": {},
   "source": [
    "### userExists function\n",
    "\n",
    "The userExists function checks if a user exists or not in the VIP List.\n",
    "This function will try to find if the given email exists for any customer in the given list.\n",
    "If the email exists, it means the user exists and the function returns True. If not, returns False.\n"
   ]
  },
  {
   "cell_type": "code",
   "execution_count": 138,
   "metadata": {},
   "outputs": [],
   "source": [
    "def userExists(vip_list,new_email):\n",
    "    for vip in vip_list:\n",
    "        if new_email == vip[\"email\"]:\n",
    "            print(\"\\n The customer is already on VIP List \")\n",
    "            return True\n",
    "        \n",
    "    return False\n",
    "def quit():\n",
    "    print(\"\\nGoodbye!\")"
   ]
  },
  {
   "cell_type": "markdown",
   "metadata": {},
   "source": [
    "### RemoveVIP function\n",
    "\n",
    "The removeVIP function removes a VIP Customer from the VIP List. If a customer with the given email is found, a message saying “customer [first name] [last name] was removed” is displayed and then this customer is removed from the list. After this, the user is redirected to the menu.\n",
    "If there is no user with the given email in the VIP list, a message saying “User does not exist” is displayed.\n"
   ]
  },
  {
   "cell_type": "code",
   "execution_count": 136,
   "metadata": {},
   "outputs": [],
   "source": [
    "def removeVIP(vip_list):\n",
    "    remove_email = input(\"Please insert the VIP customer email you want to remove: \")\n",
    "    for vip in vip_list:\n",
    "        if remove_email == vip[\"email\"]:\n",
    "            fname, lname = vip[\"fname\"] , vip[\"lname\"]\n",
    "            vip_list.remove(vip)\n",
    "            print(f\"Customer {fname} {lname} was removed\")\n",
    "            break\n",
    "    else:\n",
    "        print(\"The user does not exist!\")\n",
    "    \n",
    "    return vip_list"
   ]
  },
  {
   "cell_type": "markdown",
   "metadata": {},
   "source": [
    "### Program Outputs\n",
    "\n",
    "#### Opening menu\n",
    "\n",
    "****Lisbon Sports Club VIP LIST****\n",
    "\n",
    "1. VIP List\n",
    "\n",
    "2. Add VIP Customer\n",
    "\n",
    "3. Remove VIP Customer\n",
    "\n",
    "4. Exit\n",
    "\n",
    "Please insert option number:\n",
    "\n",
    "#### Option 1 – Listing VIP customers (empty VIP list)\n",
    "\n",
    "****Lisbon Sports Club VIP LIST****\n",
    "\n",
    "1. VIP List\n",
    "\n",
    "2. Add VIP Customer\n",
    "\n",
    "3. Remove VIP Customer\n",
    "\n",
    "4. Exit\n",
    "\n",
    "Please insert option number: 1\n",
    "\n",
    "The VIP List is empty\n",
    "\n",
    "#### Option 1 – Listing VIP customers\n",
    "\n",
    "****Lisbon Sports Club VIP LIST****\n",
    "\n",
    "1. VIP List\n",
    "\n",
    "2. Add VIP Customer\n",
    "\n",
    "3. Remove VIP Customer\n",
    "\n",
    "4. Exit\n",
    "\n",
    "Please insert option number: 1\n",
    "\n",
    "VIP LIST CUSTOMERS\n",
    "\n",
    "0\n",
    "\n",
    "George Smith\n",
    "\n",
    "email_01\n",
    "\n",
    "1\n",
    "\n",
    "Xavier Zimmer\n",
    "\n",
    "email_02\n",
    "    \n",
    "#### Option 2 – Adding a customer to VIP list\n",
    "\n",
    "****Lisbon Sports Club VIP LIST****\n",
    "\n",
    "1. VIP List\n",
    "\n",
    "2. Add VIP Customer\n",
    "\n",
    "3. Remove VIP Customer\n",
    "\n",
    "4. Exit\n",
    "\n",
    "    \n",
    "Please insert option number: 2\n",
    "\n",
    "Please insert VIP Customer first name: George\n",
    "\n",
    "Please insert VIP Customer last name: Smith\n",
    "\n",
    "Please insert VIP Customer email: email_01\n",
    "    \n",
    "\n",
    "#### Option 2 – Adding a customer to VIP list but with existing email\n",
    "\n",
    "****Lisbon Sports Club VIP LIST****\n",
    "\n",
    "1. VIP List\n",
    "\n",
    "2. Add VIP Customer\n",
    "\n",
    "3. Remove VIP Customer\n",
    "\n",
    "4. Exit\n",
    "\n",
    "    \n",
    "Please insert option number: 2\n",
    "\n",
    "Please insert VIP Customer first name: Xavier\n",
    "\n",
    "Please insert VIP Customer last name: Zimmer\n",
    "\n",
    "Please insert VIP Customer email: email_02\n",
    "\n",
    "The customer is already on VIP List.\n",
    "    \n",
    "#### Option 3 – remove VIP customers\n",
    "\n",
    "****Lisbon Sports Club VIP LIST****\n",
    "\n",
    "1. VIP List\n",
    "\n",
    "2. Add VIP Customer\n",
    "\n",
    "3. Remove VIP Customer\n",
    "\n",
    "4. Exit\n",
    "\n",
    "Please insert option number: 3\n",
    "\n",
    "Please insert the VIP customer email you want to remove: email_01\n",
    "\n",
    "Customer George Smith was removed.\n",
    "\n",
    "#### Option 3 – remove VIP customers, but the customer does not exist\n",
    "\n",
    "****Lisbon Sports Club VIP LIST****\n",
    "\n",
    "1. VIP List\n",
    "\n",
    "2. Add VIP Customer\n",
    "\n",
    "3. Remove VIP Customer\n",
    "\n",
    "4. Exit\n",
    "\n",
    "Please insert option number: 3\n",
    "\n",
    "Please insert the VIP customer email you want to remove: email_03\n",
    "\n",
    "The user does not exist!\n",
    "\n",
    "#### Option 4 – exit program\n",
    "\n",
    "****Lisbon Sports Club VIP LIST****\n",
    "\n",
    "1. VIP List\n",
    "\n",
    "2. Add VIP Customer\n",
    "\n",
    "3. Remove VIP Customer\n",
    "\n",
    "4. Exit\n",
    "\n",
    "Please insert option number: 4\n",
    "\n",
    "Goodbye!"
   ]
  },
  {
   "cell_type": "code",
   "execution_count": 139,
   "metadata": {},
   "outputs": [
    {
     "name": "stdout",
     "output_type": "stream",
     "text": [
      "\n",
      "Menù:\n",
      "1. List all VIP customers\n",
      "2. Add VIP customer\n",
      "3. Remove VIP customer\n",
      "4. Exit the program \n",
      "\n"
     ]
    },
    {
     "name": "stdin",
     "output_type": "stream",
     "text": [
      "Please insert option number: 4\n"
     ]
    },
    {
     "name": "stdout",
     "output_type": "stream",
     "text": [
      "\n",
      "Goodbye!\n"
     ]
    }
   ],
   "source": [
    "# Code...\n",
    "VIPList()"
   ]
  },
  {
   "cell_type": "markdown",
   "metadata": {
    "id": "zPP9FhKNRTr5"
   },
   "source": [
    "<br>\n",
    "\n",
    "### Question 3 (15 points) Imagine\n",
    "\n",
    "The file ```Imagine.txt``` contains the lyrics of \"Imagine\", one of the most famous songs in the world from John Lennon. Read the file as we show in the lecture and answer the following questions. \n"
   ]
  },
  {
   "cell_type": "markdown",
   "metadata": {
    "id": "HYuFRDhXRTr7"
   },
   "source": [
    "**Note** If you are using Google Colab instead of Jupyter Notebook, you need first to upload this file to the computing environment using the following code:\n",
    "```python\n",
    "from google.colab import files\n",
    "\n",
    "files.upload()\n",
    "```\n",
    "\n",
    "Then it will ask you to upload the file, select the file and it will be uploaded. You can verify whether it has been successfully uploaded at the left of the notebook `Files`"
   ]
  },
  {
   "cell_type": "markdown",
   "metadata": {},
   "source": [
    "### a)"
   ]
  },
  {
   "cell_type": "markdown",
   "metadata": {},
   "source": [
    "Print the number of lines of the song, remember to not consider blank lines and sections such as \"Verse\" and \"Chorus\"."
   ]
  },
  {
   "cell_type": "code",
   "execution_count": 214,
   "metadata": {},
   "outputs": [],
   "source": [
    "# Code...\n",
    "with open(\"Imagine.txt\", \"r\") as f:\n",
    "    lines = f.readlines()\n",
    "with open(\"Imagine.txt\", \"w\") as f:\n",
    "    for line in lines:\n",
    "        if (line.strip(\"\\n\") != \"[Chorus]\") and (line.strip(\"\\n\") != \"[Verse 1]\") and (line.strip(\"\\n\") != \"[Verse 2]\") and (line.strip(\"\\n\") != \"[Verse 3]\") and (line != \"\\n\"):\n",
    "            f.write(line)\n",
    "f.close()"
   ]
  },
  {
   "cell_type": "code",
   "execution_count": 215,
   "metadata": {},
   "outputs": [
    {
     "name": "stdout",
     "output_type": "stream",
     "text": [
      "The number of lines without the spaces is: 29\n"
     ]
    }
   ],
   "source": [
    "file=open(\"Imagine.txt\")\n",
    "print(\"The number of lines without the spaces is: \" + str(len(file.readlines())))"
   ]
  },
  {
   "cell_type": "markdown",
   "metadata": {},
   "source": [
    "### b)"
   ]
  },
  {
   "cell_type": "markdown",
   "metadata": {},
   "source": [
    "At the beginning, like head of the file, write the title of the song: \"Imagine\". At the end of the file, append the following text: \"– John Lennon\" and save the new file in .txt format."
   ]
  },
  {
   "cell_type": "code",
   "execution_count": 216,
   "metadata": {},
   "outputs": [],
   "source": [
    "# Code...\n",
    "with open('Imagine.txt', 'r') as original: data = original.read()\n",
    "with open('Imagine.txt', 'w') as modified: modified.write(\"Imagine\\n\" + data + \"\\n– John Lennon\" )"
   ]
  },
  {
   "cell_type": "code",
   "execution_count": 217,
   "metadata": {},
   "outputs": [
    {
     "name": "stdout",
     "output_type": "stream",
     "text": [
      "Imagine\n",
      "Imagine there's no Heaven\n",
      "It's easy if you try\n",
      "No Hell below us\n",
      "Above us only sky\n",
      "Imagine all the people\n",
      "Livin' for today\n",
      "Aaa haa\n",
      "Imagine there's no countries\n",
      "It isn't hard to do\n",
      "Nothing to kill or die for\n",
      "And no religion too\n",
      "Imagine all the people\n",
      "Livin' life in peace\n",
      "Yoo hoo\n",
      "You may say I'm a dreamer\n",
      "But I'm not the only one\n",
      "I hope someday you'll join us\n",
      "And the world will be as one\n",
      "Imagine no possessions\n",
      "I wonder if you can\n",
      "No need for greed or hunger\n",
      "A brotherhood of man\n",
      "Imagine all the people\n",
      "Sharin' all the world\n",
      "Yoo hoo\n",
      "You may say I'm a dreamer\n",
      "But I'm not the only one\n",
      "I hope someday you'll join us\n",
      "And the world will live as one\n",
      "– John Lennon\n"
     ]
    }
   ],
   "source": [
    "file=open(\"Imagine.txt\")\n",
    "print(\"\".join(file.readlines()))"
   ]
  },
  {
   "cell_type": "markdown",
   "metadata": {},
   "source": [
    "### c)"
   ]
  },
  {
   "cell_type": "markdown",
   "metadata": {},
   "source": [
    "\n",
    "Identify how many times the single quotation mark `'` appears in the song."
   ]
  },
  {
   "cell_type": "code",
   "execution_count": 218,
   "metadata": {},
   "outputs": [
    {
     "name": "stdout",
     "output_type": "stream",
     "text": [
      "Number of ' in the song is: 13\n"
     ]
    }
   ],
   "source": [
    "# Code...\n",
    "file = open(\"Imagine.txt\")\n",
    "lines = file.readlines()\n",
    "c = 0\n",
    "for line in lines:\n",
    "    if \"'\" in line:\n",
    "        c = c+1\n",
    "print(\"Number of ' in the song is: \" + str(c))"
   ]
  },
  {
   "cell_type": "markdown",
   "metadata": {},
   "source": [
    "### d)"
   ]
  },
  {
   "cell_type": "markdown",
   "metadata": {},
   "source": [
    "Print the top 3 frequent words with the corresponding counter value."
   ]
  },
  {
   "cell_type": "code",
   "execution_count": 219,
   "metadata": {},
   "outputs": [
    {
     "name": "stdout",
     "output_type": "stream",
     "text": [
      "The most used words in the song are: [('the', 8), ('imagine', 7), ('no', 6)]\n"
     ]
    }
   ],
   "source": [
    "file = open(\"Imagine.txt\",\"r\")\n",
    "frequent_word = \"\"\n",
    "frequency = 0  \n",
    "words = []\n",
    "  \n",
    "for line in file:\n",
    "    line_word = line.lower().replace(',','').replace(\"\\n\",\"\").replace('.','').split(\" \");  \n",
    "    for w in line_word:  \n",
    "        words.append(w);  \n",
    "rv={}\n",
    "for w in words:\n",
    "    rv[str(w)]=words.count(str(w))\n",
    "        \n",
    "file.close();\n",
    "rv = {k: v for k, v in sorted(rv.items(), key=lambda item: item[1], reverse=True)}\n",
    "print(\"The most used words in the song are: \"+ str(list(rv.items())[:3]))"
   ]
  },
  {
   "cell_type": "markdown",
   "metadata": {},
   "source": [
    "### Question 4 (15 Points) Real Estate estimator"
   ]
  },
  {
   "cell_type": "markdown",
   "metadata": {},
   "source": [
    "⚠️ Pandas is forbidden in this challenge: Make use of the [NumPy documentation](https://docs.scipy.org/doc/numpy/reference/). You can also find help on this [NumPy cheatsheet](https://s3.amazonaws.com/assets.datacamp.com/blog_assets/Numpy_Python_Cheat_Sheet.pdf)."
   ]
  },
  {
   "cell_type": "code",
   "execution_count": 3,
   "metadata": {},
   "outputs": [],
   "source": [
    "# Load the NumPy library\n",
    "import numpy as np"
   ]
  },
  {
   "cell_type": "markdown",
   "metadata": {},
   "source": [
    "We have been able to collect data for 4 flats below: Their `surface` (square feet), `bedrooms` and `floors` numbers are the 3 **features** of our problem, and the `price` (in thousands of $) is our **target**:\n",
    "\n",
    "|flats |surface|bedrooms|floors|price|\n",
    "|------|-------------|--------|------|------------|\n",
    "|flat1 |620|1|1|244|\n",
    "|flat2 |3280|4|2|671|\n",
    "|flat3 |1900|2|2|504|\n",
    "|flat4 |1320|3|3|510|\n",
    "\n",
    "A first approach is to try to find a **linear** relation between the `price` and the 3 features, by solving this system of equations:\n",
    "\n",
    "$$\\begin{cases}\n",
    "    244 = \\theta_0 + 620\\theta_1 + 1\\theta_2 + 1\\theta_3 \\\\\n",
    "    671 = \\theta_0 + 3280\\theta_1 + 4\\theta_2 + 2\\theta_3 \\\\\n",
    "    504 = \\theta_0 + 1900\\theta_1 + 2\\theta_2 + 2\\theta_3 \\\\\n",
    "    510 = \\theta_0 + 1320\\theta_1 + 3\\theta_2 + 3\\theta_3\n",
    "\\end{cases}$$\n",
    "\n",
    "Which can be translated into a matricial equation:\n",
    "\n",
    "$$Y = X\\theta$$\n",
    "\n",
    "$$\\begin{bmatrix}\n",
    "    244 \\\\\n",
    "    671 \\\\\n",
    "    504 \\\\\n",
    "    510\n",
    "\\end{bmatrix} = \\begin{bmatrix}\n",
    "    1 & 620 & 1 & 1 \\\\\n",
    "    1 & 3280 & 4 & 2 \\\\\n",
    "    1 & 1900 & 2 & 2 \\\\\n",
    "    1 & 1320 & 3 & 3\n",
    "\\end{bmatrix} \\begin{bmatrix}\n",
    "    \\theta_1 \\\\\n",
    "    \\theta_2 \\\\\n",
    "    \\theta_3 \\\\\n",
    "    \\theta_4\n",
    "\\end{bmatrix}$$\n",
    "\n",
    "where $Y$ is the vector of `Price`, $X$ is the matrix of features and $\\theta$ (theta) is the vector of coefficients to be found.\n",
    "\n",
    "If $\\theta$ is found, the price of any new flat could be estimated using $$Y_{flat5} = X_{flat5}\\theta$$"
   ]
  },
  {
   "cell_type": "markdown",
   "metadata": {},
   "source": [
    "### 4.1 Define the matrix `X` of features"
   ]
  },
  {
   "cell_type": "markdown",
   "metadata": {},
   "source": [
    "### a)"
   ]
  },
  {
   "cell_type": "markdown",
   "metadata": {},
   "source": [
    "Create a (4,3) `numpy.ndarray` storing the values of the 3 features (surface, bedrooms, floors) for the 4 observations. Double check its `shape`, `size` and `dim`"
   ]
  },
  {
   "cell_type": "code",
   "execution_count": 222,
   "metadata": {},
   "outputs": [
    {
     "name": "stdout",
     "output_type": "stream",
     "text": [
      "[[6.20e+02 1.00e+00 1.00e+00]\n",
      " [3.28e+03 4.00e+00 2.00e+00]\n",
      " [1.90e+03 2.00e+00 2.00e+00]\n",
      " [1.32e+03 3.00e+00 3.00e+00]]\n"
     ]
    }
   ],
   "source": [
    "# Code...\n",
    "A = np.ndarray(shape=(4,3))\n",
    "A[0]=[620, 1, 1]\n",
    "A[1]=[3280, 4, 2]\n",
    "A[2]=[1900, 2, 2]\n",
    "A[3]=[1320, 3, 3]\n",
    "print(A)"
   ]
  },
  {
   "cell_type": "markdown",
   "metadata": {},
   "source": [
    "### b)"
   ]
  },
  {
   "cell_type": "markdown",
   "metadata": {},
   "source": [
    "Create a \"constant\" vector of 1's, checking its shape."
   ]
  },
  {
   "cell_type": "code",
   "execution_count": 221,
   "metadata": {},
   "outputs": [
    {
     "name": "stdout",
     "output_type": "stream",
     "text": [
      "[[1.]\n",
      " [1.]\n",
      " [1.]\n",
      " [1.]]\n"
     ]
    }
   ],
   "source": [
    "# Code...\n",
    "b = np.ones(shape=(4,1))\n",
    "print(b)"
   ]
  },
  {
   "cell_type": "markdown",
   "metadata": {},
   "source": [
    "### c)"
   ]
  },
  {
   "cell_type": "markdown",
   "metadata": {},
   "source": [
    "Use `numpy.hstack` to create the (4,4) matrix X by concatenating the vector in b) with the matrix in a)"
   ]
  },
  {
   "cell_type": "code",
   "execution_count": 223,
   "metadata": {},
   "outputs": [
    {
     "name": "stdout",
     "output_type": "stream",
     "text": [
      "[[1.00e+00 6.20e+02 1.00e+00 1.00e+00]\n",
      " [1.00e+00 3.28e+03 4.00e+00 2.00e+00]\n",
      " [1.00e+00 1.90e+03 2.00e+00 2.00e+00]\n",
      " [1.00e+00 1.32e+03 3.00e+00 3.00e+00]]\n"
     ]
    }
   ],
   "source": [
    "# Code...\n",
    "x = np.hstack((b,A))\n",
    "print(x)"
   ]
  },
  {
   "cell_type": "markdown",
   "metadata": {},
   "source": [
    "### 4.2 Define the vector `Y` of Prices"
   ]
  },
  {
   "cell_type": "markdown",
   "metadata": {},
   "source": [
    "$Y = \\begin{bmatrix}\n",
    "    244 \\\\\n",
    "    671 \\\\\n",
    "    504 \\\\\n",
    "    510\n",
    "\\end{bmatrix}$\n",
    "\n",
    "In order to match our matricial representation $Y = X\\theta$, what should be the shape of $Y$ ? Define $Y$ below\n",
    "\n",
    "<details>\n",
    "    <summary>Hint</summary>\n",
    "\n",
    "Y should be a (4,1) array, equivalent to a flat \"vector\", represented vertically\n",
    "</details>"
   ]
  },
  {
   "cell_type": "code",
   "execution_count": 224,
   "metadata": {},
   "outputs": [
    {
     "name": "stdout",
     "output_type": "stream",
     "text": [
      "[[244.]\n",
      " [671.]\n",
      " [504.]\n",
      " [510.]]\n"
     ]
    }
   ],
   "source": [
    "# Code...\n",
    "Y=np.ndarray(shape=(4,1))\n",
    "Y[0]=244\n",
    "Y[1]=671\n",
    "Y[2]=504\n",
    "Y[3]=510\n",
    "print(Y)"
   ]
  },
  {
   "cell_type": "markdown",
   "metadata": {},
   "source": [
    "### 4.3 Find the solution of the system\n",
    "\n",
    "Now is the time to find the vector of coefficients $\\theta$ !\n",
    "\n",
    "The solution of the equation is:\n",
    " \n",
    "$$ X\\theta = Y \\\\\n",
    "\\Leftrightarrow X^{-1}X\\theta = X^{-1}Y \\\\\n",
    "\\Leftrightarrow \\theta = X^{-1}Y$$\n",
    "\n",
    "where $X^{-1}$ is the inverse of $X$."
   ]
  },
  {
   "cell_type": "markdown",
   "metadata": {},
   "source": [
    "### a)"
   ]
  },
  {
   "cell_type": "markdown",
   "metadata": {},
   "source": [
    "Compute the inverse of the matrix X using the correct Numpy method."
   ]
  },
  {
   "cell_type": "code",
   "execution_count": 227,
   "metadata": {},
   "outputs": [],
   "source": [
    "# Code...\n",
    "revX = np.linalg.inv(x)"
   ]
  },
  {
   "cell_type": "markdown",
   "metadata": {},
   "source": [
    "You can check if the inversion worked by testing:\n",
    "\n",
    "$$X^{-1}X = I_4$$\n",
    "where $I_4$ is the 4 by 4 identity matrix."
   ]
  },
  {
   "cell_type": "markdown",
   "metadata": {},
   "source": [
    "### b)"
   ]
  },
  {
   "cell_type": "markdown",
   "metadata": {},
   "source": [
    "Define I4 using the correct Numpy method."
   ]
  },
  {
   "cell_type": "code",
   "execution_count": 228,
   "metadata": {},
   "outputs": [
    {
     "name": "stdout",
     "output_type": "stream",
     "text": [
      "[[1. 0. 0. 0.]\n",
      " [0. 1. 0. 0.]\n",
      " [0. 0. 1. 0.]\n",
      " [0. 0. 0. 1.]]\n"
     ]
    }
   ],
   "source": [
    "# Code...\n",
    "I4 = np.identity(4)\n",
    "print(I4)"
   ]
  },
  {
   "cell_type": "markdown",
   "metadata": {},
   "source": [
    "### c)"
   ]
  },
  {
   "cell_type": "markdown",
   "metadata": {},
   "source": [
    "Now compute $X^{-1}X$."
   ]
  },
  {
   "cell_type": "code",
   "execution_count": 230,
   "metadata": {},
   "outputs": [
    {
     "name": "stdout",
     "output_type": "stream",
     "text": [
      "[[1.00000000e+00 0.00000000e+00 0.00000000e+00 0.00000000e+00]\n",
      " [0.00000000e+00 1.00000000e+00 0.00000000e+00 0.00000000e+00]\n",
      " [0.00000000e+00 0.00000000e+00 1.00000000e+00 5.55111512e-17]\n",
      " [0.00000000e+00 0.00000000e+00 0.00000000e+00 1.00000000e+00]]\n"
     ]
    }
   ],
   "source": [
    "# Code...\n",
    "I4Calc = np.dot(x, revX)\n",
    "print(I4Calc)"
   ]
  },
  {
   "cell_type": "markdown",
   "metadata": {},
   "source": [
    "Does it look like $I_4$?\n",
    "\n",
    "It possibly doesn't!"
   ]
  },
  {
   "cell_type": "markdown",
   "metadata": {},
   "source": [
    "### d)"
   ]
  },
  {
   "cell_type": "markdown",
   "metadata": {},
   "source": [
    "Check using [`numpy.allclose()`](https://numpy.org/doc/stable/reference/generated/numpy.allclose.html?highlight=allclose#numpy.allclose) method. If **True** it is close enough."
   ]
  },
  {
   "cell_type": "code",
   "execution_count": 231,
   "metadata": {},
   "outputs": [
    {
     "data": {
      "text/plain": [
       "True"
      ]
     },
     "execution_count": 231,
     "metadata": {},
     "output_type": "execute_result"
    }
   ],
   "source": [
    "# Code...\n",
    "np.allclose(I4, I4Calc)"
   ]
  },
  {
   "cell_type": "markdown",
   "metadata": {},
   "source": [
    "### e)"
   ]
  },
  {
   "cell_type": "markdown",
   "metadata": {},
   "source": [
    "Compute $\\theta$ (remembering that $\\theta = X^{-1}Y$)."
   ]
  },
  {
   "cell_type": "code",
   "execution_count": 233,
   "metadata": {},
   "outputs": [
    {
     "name": "stdout",
     "output_type": "stream",
     "text": [
      "[[ 74.12903226]\n",
      " [  0.13655914]\n",
      " [-10.72580645]\n",
      " [ 95.93010753]]\n"
     ]
    }
   ],
   "source": [
    "# Code...\n",
    "O = np.dot(revX, Y)\n",
    "print(O)"
   ]
  },
  {
   "cell_type": "markdown",
   "metadata": {},
   "source": [
    "### 4.4. Estimation of a new flat price\n",
    "\n",
    "You finally solved the system finding $\\theta$, you are able to estimate the `Price` (in thousands of $) of a 5th flat given these characteristics:\n",
    "\n",
    "- `Surface`: 3000 $ft^2$\n",
    "- `Bedrooms`: 5 \n",
    "- `Floors`: 1\n",
    "\n",
    "with the following formula:\n",
    "\n",
    "$$Y_{flat5} = X_{flat5}\\theta$$"
   ]
  },
  {
   "cell_type": "markdown",
   "metadata": {},
   "source": [
    "Create X5 from the information above (not forgetting the constant) and use the formula above and our previous vector $\\theta$ to estimate the price (Y5) of this new flat. Print it to the screen."
   ]
  },
  {
   "cell_type": "code",
   "execution_count": 234,
   "metadata": {},
   "outputs": [
    {
     "name": "stdout",
     "output_type": "stream",
     "text": [
      "The estimated price of the 5th flat is: [526.10752688]\n"
     ]
    }
   ],
   "source": [
    "# Code...\n",
    "X5=np.ndarray(4)\n",
    "X5[0]=1\n",
    "X5[1]=3000\n",
    "X5[2]=5\n",
    "X5[3]=1\n",
    "Y5 = np.dot(X5, O)\n",
    "print(\"The estimated price of the 5th flat is: \" + str(Y5))"
   ]
  },
  {
   "cell_type": "markdown",
   "metadata": {},
   "source": [
    "### Question 5 (30 points) Oil and Gas Production"
   ]
  },
  {
   "cell_type": "code",
   "execution_count": 2,
   "metadata": {},
   "outputs": [],
   "source": [
    "import pandas as pd\n",
    "import matplotlib.pyplot as plt\n",
    "plt.style.use('seaborn')"
   ]
  },
  {
   "cell_type": "markdown",
   "metadata": {},
   "source": [
    "In this exercise, you will analyze the US Oil & Gas production from June 2008 to June 2018. The dataset is [available on Kaggle](https://www.kaggle.com/djzurawski/us-oil-and-gas-production-june-2008-to-june-2018), and we already downloaded the CSVs in the Assignment 1 folder. They are \"U.S._crude_oil_production.csv\" and \"U.S._natural_gas_production.csv\", no need for you to download it again."
   ]
  },
  {
   "cell_type": "markdown",
   "metadata": {},
   "source": [
    "This exercise requires the matplotlib library (https://matplotlib.org/gallery/index.html) that may already be installed on your enviroment."
   ]
  },
  {
   "cell_type": "markdown",
   "metadata": {},
   "source": [
    "### a)"
   ]
  },
  {
   "cell_type": "markdown",
   "metadata": {},
   "source": [
    "Using `Pandas Series` and `Numpy Random`, make a one-column data structure with a date from the beginning of 2019 of 1000 days with 1000 random integers. Show the cummulative sum of these integers over time on a plot."
   ]
  },
  {
   "cell_type": "code",
   "execution_count": 235,
   "metadata": {},
   "outputs": [
    {
     "data": {
      "text/plain": [
       "<AxesSubplot:>"
      ]
     },
     "execution_count": 235,
     "metadata": {},
     "output_type": "execute_result"
    },
    {
     "data": {
      "image/png": "[encoded data removed]",
      "text/plain": [
       "<Figure size 1152x576 with 2 Axes>"
      ]
     },
     "metadata": {},
     "output_type": "display_data"
    }
   ],
   "source": [
    "# Code...\n",
    "temp = np.random.randint(0,100,1000)\n",
    "idx = pd.date_range(start=\"2019-01-01\", end=\"2021-09-26\")\n",
    "ser = pd.Series(temp, index=idx)\n",
    "df = ser.to_frame(\"vals\")\n",
    "df[\"cumsum\"]=df[\"vals\"].cumsum()/df[\"vals\"].sum()\n",
    "df.plot(figsize=(16,8), secondary_y=\"cumsum\", color=[\"red\", \"black\"])"
   ]
  },
  {
   "cell_type": "markdown",
   "metadata": {},
   "source": [
    "### b)"
   ]
  },
  {
   "cell_type": "markdown",
   "metadata": {},
   "source": [
    "Using the index from this data structure (presuming you stored it as a variable), make a four column dataframe with columns of A,B,C,D and then plot each column cummulative sums over time (but in the same chart), showing different columns with different colours."
   ]
  },
  {
   "cell_type": "code",
   "execution_count": 11,
   "metadata": {},
   "outputs": [
    {
     "data": {
      "text/plain": [
       "<AxesSubplot:>"
      ]
     },
     "execution_count": 11,
     "metadata": {},
     "output_type": "execute_result"
    },
    {
     "data": {
      "image/png": "[encoded data removed]",
      "text/plain": [
       "<Figure size 1152x576 with 1 Axes>"
      ]
     },
     "metadata": {},
     "output_type": "display_data"
    }
   ],
   "source": [
    "# Code...\n",
    "temp = np.random.randint(1,100,(1000,4))\n",
    "df1 = pd.DataFrame(temp, columns=[\"A\",\"B\",\"C\",\"D\"])\n",
    "df1[\"date\"]=idx\n",
    "df1.set_index(\"date\")\n",
    "df1[\"cumA\"]=df1[\"A\"].cumsum()/df1[\"A\"].sum()\n",
    "df1[\"cumB\"]=df1[\"B\"].cumsum()/df1[\"B\"].sum()\n",
    "df1[\"cumC\"]=df1[\"C\"].cumsum()/df1[\"C\"].sum()\n",
    "df1[\"cumD\"]=df1[\"D\"].cumsum()/df1[\"D\"].sum()\n",
    "df1.plot(figsize=(16,8), y=[\"cumA\",\"cumB\",\"cumC\",\"cumD\"], color=[\"cyan\",\"magenta\",\"black\",\"yellow\"])"
   ]
  },
  {
   "cell_type": "markdown",
   "metadata": {},
   "source": [
    "### c)\n",
    "\n",
    "Analysing the [Kaggle Dataset](https://www.kaggle.com/djzurawski/us-oil-and-gas-production-june-2008-to-june-2018) with information about Oil and Gas production in the US from June 2008 to June 2018."
   ]
  },
  {
   "cell_type": "markdown",
   "metadata": {},
   "source": [
    "Download the csv files. Use `Pandas` to read these csv files and check the datatypes. Group both oil and gas files by year, summing the relevant columns for the US only (ignore the state level information) and plot `Crude Oil` and `Gas` columns in the same chart."
   ]
  },
  {
   "cell_type": "code",
   "execution_count": 110,
   "metadata": {},
   "outputs": [
    {
     "data": {
      "text/plain": [
       "<AxesSubplot:xlabel='Year'>"
      ]
     },
     "execution_count": 110,
     "metadata": {},
     "output_type": "execute_result"
    },
    {
     "data": {
      "image/png": "[encoded data removed]",
      "text/plain": [
       "<Figure size 1152x576 with 1 Axes>"
      ]
     },
     "metadata": {},
     "output_type": "display_data"
    }
   ],
   "source": [
    "# Code...\n",
    "oil = pd.read_csv(\"U.S._crude_oil_production.csv\")\n",
    "gas = pd.read_csv(\"U.S._natural_gas_production.csv\")\n",
    "oil[\"Month\"]=oil[\"Month\"].apply(pd.to_datetime)\n",
    "oilY = oil.groupby(oil[\"Month\"].dt.year).sum().reset_index()\n",
    "oilY = oilY.rename(columns={\"Month\":\"Year\"})\n",
    "gas[\"Month\"]=gas[\"Month\"].apply(pd.to_datetime)\n",
    "gasY = gas.groupby(gas[\"Month\"].dt.year).sum().reset_index()\n",
    "gasY = gasY.rename(columns={\"Month\":\"Year\"})\n",
    "gasOilY = pd.merge(oilY[[\"Year\", \"U.S. Crude Oil \"]], gasY[[\"Year\", \"U.S.\"]], how=\"inner\", on=\"Year\").set_index(\"Year\")\n",
    "\n",
    "gasOilY.plot(figsize=(16,8), y=gasOilY.columns)"
   ]
  },
  {
   "cell_type": "markdown",
   "metadata": {},
   "source": [
    "### d)"
   ]
  },
  {
   "cell_type": "markdown",
   "metadata": {},
   "source": [
    "Look specifically at `Crude Oil` and add an additional column called `Category_numpy` with values of 'Low' and 'High' corresponding to under 100000 barrels and over 100000 barrels respectively.  \n",
    "Show in a table how many years correspond to low production and high production."
   ]
  },
  {
   "cell_type": "code",
   "execution_count": 236,
   "metadata": {},
   "outputs": [
    {
     "data": {
      "text/html": [
       "<div>\n",
       "<style scoped>\n",
       "    .dataframe tbody tr th:only-of-type {\n",
       "        vertical-align: middle;\n",
       "    }\n",
       "\n",
       "    .dataframe tbody tr th {\n",
       "        vertical-align: top;\n",
       "    }\n",
       "\n",
       "    .dataframe thead th {\n",
       "        text-align: right;\n",
       "    }\n",
       "</style>\n",
       "<table border=\"1\" class=\"dataframe\">\n",
       "  <thead>\n",
       "    <tr style=\"text-align: right;\">\n",
       "      <th></th>\n",
       "      <th>Category_numpy</th>\n",
       "    </tr>\n",
       "  </thead>\n",
       "  <tbody>\n",
       "    <tr>\n",
       "      <th>Low</th>\n",
       "      <td>7</td>\n",
       "    </tr>\n",
       "    <tr>\n",
       "      <th>High</th>\n",
       "      <td>4</td>\n",
       "    </tr>\n",
       "  </tbody>\n",
       "</table>\n",
       "</div>"
      ],
      "text/plain": [
       "      Category_numpy\n",
       "Low                7\n",
       "High               4"
      ]
     },
     "execution_count": 236,
     "metadata": {},
     "output_type": "execute_result"
    }
   ],
   "source": [
    "# Code...\n",
    "oilY['Category_numpy'] = np.where(oilY['U.S. Crude Oil '] >  100000, \"High\", \"Low\")\n",
    "oilY['Category_numpy'].value_counts().to_frame()"
   ]
  },
  {
   "cell_type": "markdown",
   "metadata": {},
   "source": [
    "### e)"
   ]
  },
  {
   "cell_type": "markdown",
   "metadata": {},
   "source": [
    "Add another column called `Category_loop` to define values of under 50000 barrels as 'Low', between 50000 and 100000 barrels as 'Medium' and over 100000 barrels as 'High'.  \n",
    "Again show in a table the number of years corresponding to low, medium and high production."
   ]
  },
  {
   "cell_type": "code",
   "execution_count": 237,
   "metadata": {},
   "outputs": [
    {
     "data": {
      "text/html": [
       "<div>\n",
       "<style scoped>\n",
       "    .dataframe tbody tr th:only-of-type {\n",
       "        vertical-align: middle;\n",
       "    }\n",
       "\n",
       "    .dataframe tbody tr th {\n",
       "        vertical-align: top;\n",
       "    }\n",
       "\n",
       "    .dataframe thead th {\n",
       "        text-align: right;\n",
       "    }\n",
       "</style>\n",
       "<table border=\"1\" class=\"dataframe\">\n",
       "  <thead>\n",
       "    <tr style=\"text-align: right;\">\n",
       "      <th></th>\n",
       "      <th>Category_loop</th>\n",
       "    </tr>\n",
       "  </thead>\n",
       "  <tbody>\n",
       "    <tr>\n",
       "      <th>Medium</th>\n",
       "      <td>6</td>\n",
       "    </tr>\n",
       "    <tr>\n",
       "      <th>High</th>\n",
       "      <td>4</td>\n",
       "    </tr>\n",
       "    <tr>\n",
       "      <th>Low</th>\n",
       "      <td>1</td>\n",
       "    </tr>\n",
       "  </tbody>\n",
       "</table>\n",
       "</div>"
      ],
      "text/plain": [
       "        Category_loop\n",
       "Medium              6\n",
       "High                4\n",
       "Low                 1"
      ]
     },
     "execution_count": 237,
     "metadata": {},
     "output_type": "execute_result"
    }
   ],
   "source": [
    "result=[]\n",
    "for i in oilY['U.S. Crude Oil ']:\n",
    "    if i<50000:\n",
    "        result.append(\"Low\")\n",
    "    elif i>=50000 and i<100000:\n",
    "        result.append(\"Medium\")\n",
    "    elif i>=100000:\n",
    "        result.append(\"High\")\n",
    "oilY[\"Category_loop\"]=result\n",
    "oilY[\"Category_loop\"].value_counts().to_frame()"
   ]
  },
  {
   "cell_type": "markdown",
   "metadata": {},
   "source": [
    "### f)"
   ]
  },
  {
   "cell_type": "markdown",
   "metadata": {},
   "source": [
    "This time make a new column called `Category_function` that applies a function to the value column and assigns categories exactly the same as in e) above but using a slightly different method."
   ]
  },
  {
   "cell_type": "code",
   "execution_count": 238,
   "metadata": {},
   "outputs": [
    {
     "data": {
      "text/html": [
       "<div>\n",
       "<style scoped>\n",
       "    .dataframe tbody tr th:only-of-type {\n",
       "        vertical-align: middle;\n",
       "    }\n",
       "\n",
       "    .dataframe tbody tr th {\n",
       "        vertical-align: top;\n",
       "    }\n",
       "\n",
       "    .dataframe thead th {\n",
       "        text-align: right;\n",
       "    }\n",
       "</style>\n",
       "<table border=\"1\" class=\"dataframe\">\n",
       "  <thead>\n",
       "    <tr style=\"text-align: right;\">\n",
       "      <th></th>\n",
       "      <th>Category_function</th>\n",
       "    </tr>\n",
       "  </thead>\n",
       "  <tbody>\n",
       "    <tr>\n",
       "      <th>Medium</th>\n",
       "      <td>6</td>\n",
       "    </tr>\n",
       "    <tr>\n",
       "      <th>High</th>\n",
       "      <td>4</td>\n",
       "    </tr>\n",
       "    <tr>\n",
       "      <th>Low</th>\n",
       "      <td>1</td>\n",
       "    </tr>\n",
       "  </tbody>\n",
       "</table>\n",
       "</div>"
      ],
      "text/plain": [
       "        Category_function\n",
       "Medium                  6\n",
       "High                    4\n",
       "Low                     1"
      ]
     },
     "execution_count": 238,
     "metadata": {},
     "output_type": "execute_result"
    }
   ],
   "source": [
    "# Code...\n",
    "def assign(df):\n",
    "    if df[\"U.S. Crude Oil \"]<50000:\n",
    "        return \"Low\"\n",
    "    elif df[\"U.S. Crude Oil \"]>100000:\n",
    "        return \"High\"\n",
    "    else:\n",
    "        return \"Medium\"\n",
    "oilY[\"Category_function\"]=oilY.apply(lambda df: assign(df), axis=1)\n",
    "oilY[\"Category_function\"].value_counts().to_frame()"
   ]
  },
  {
   "cell_type": "markdown",
   "metadata": {},
   "source": [
    "### g)"
   ]
  },
  {
   "cell_type": "markdown",
   "metadata": {},
   "source": [
    "Which is the quickest method - Category_numpy, Category_loop or Category_function?  \n",
    "*Hint: use the `time` package (or similar)*"
   ]
  },
  {
   "cell_type": "code",
   "execution_count": 198,
   "metadata": {},
   "outputs": [
    {
     "name": "stdout",
     "output_type": "stream",
     "text": [
      "Duration Category_numpy: 0:00:00.001995\n",
      "Duration Category_numpy: 0:00:00\n",
      "Duration Category_numpy: 0:00:00.000997\n"
     ]
    }
   ],
   "source": [
    "# Code...\n",
    "import time\n",
    "from datetime import datetime\n",
    "start_time_category = datetime.now()\n",
    "oilY['Category_numpy'] = np.where(oilY['U.S. Crude Oil '] >  100000, \"High\", \"Low\")\n",
    "oilY['Category_numpy'].value_counts().to_frame()\n",
    "end_time_category = datetime.now()\n",
    "print('Duration Category_numpy: {}'.format(end_time_category - start_time_category))\n",
    "\n",
    "start_time_category = datetime.now()\n",
    "\n",
    "end_time_category = datetime.now()\n",
    "print('Duration Category_numpy: {}'.format(end_time_category - start_time_category))\n",
    "result=[]\n",
    "for i in oilY['U.S. Crude Oil ']:\n",
    "    if i<50000:\n",
    "        result.append(\"Low\")\n",
    "    elif i>=50000 and i<100000:\n",
    "        result.append(\"Medium\")\n",
    "    elif i>=100000:\n",
    "        result.append(\"High\")\n",
    "oilY[\"Category_loop\"]=result\n",
    "\n",
    "start_time_category = datetime.now()\n",
    "def assign(df):\n",
    "    if df[\"U.S. Crude Oil \"]<50000:\n",
    "        return \"Low\"\n",
    "    elif df[\"U.S. Crude Oil \"]>100000:\n",
    "        return \"High\"\n",
    "    else:\n",
    "        return \"Medium\"\n",
    "oilY[\"Category_function\"]=oilY.apply(lambda df: assign(df), axis=1)\n",
    "end_time_category = datetime.now()\n",
    "print('Duration Category_numpy: {}'.format(end_time_category - start_time_category))"
   ]
  },
  {
   "cell_type": "markdown",
   "metadata": {},
   "source": [
    "_**The Fastest one is with loop because the dataframe is small.**_"
   ]
  }
 ],
 "metadata": {
  "kernelspec": {
   "display_name": "myenv",
   "language": "python",
   "name": "myenv"
  },
  "language_info": {
   "codemirror_mode": {
    "name": "ipython",
    "version": 3
   },
   "file_extension": ".py",
   "mimetype": "text/x-python",
   "name": "python",
   "nbconvert_exporter": "python",
   "pygments_lexer": "ipython3",
   "version": "3.8.5"
  }
 },
 "nbformat": 4,
 "nbformat_minor": 4
}
